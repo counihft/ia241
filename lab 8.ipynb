{
 "cells": [
  {
   "cell_type": "code",
   "execution_count": 1,
   "metadata": {},
   "outputs": [],
   "source": [
    "import pandas"
   ]
  },
  {
   "cell_type": "code",
   "execution_count": 2,
   "metadata": {},
   "outputs": [
    {
     "name": "stdout",
     "output_type": "stream",
     "text": [
      "      price  bathroom           house_type  lot_size  built_in  area\n",
      "0    159900         1   single-family home      5662      1924  1584\n",
      "1   1100000         1   single-family home   4138200      1932   900\n",
      "2    182000         2                condo      7405      1945  1622\n",
      "3    169900         1   single-family home     36155      1950  1556\n",
      "4    148500         1   single-family home      9147      1959  1000\n",
      "5    444900         6   single-family home     28314      1961  5201\n",
      "6    178000         2   single-family home     11326      1964  1188\n",
      "7    209000         2   single-family home      9147      1966  1918\n",
      "8    349900         2   single-family home    204732      1967  3850\n",
      "9   1100000         2   single-family home   4356000      1970  2541\n",
      "10   239000         3   single-family home     12197      1972  2210\n",
      "11   149900         2   single-family home      8712      1975  1810\n",
      "12   294900         2   single-family home     30928      1978  3150\n",
      "13   625000         6   single-family home     14810      1985  5299\n",
      "14   309900         3   single-family home     15246      1986  2136\n",
      "15   179900         2   single-family home     13068      1988  1237\n",
      "16   339900         3   single-family home     14375      1993  2003\n",
      "17   134900         2            townhouse      2300      1994   920\n",
      "18   359000         4   single-family home     10130      1997  2903\n",
      "19   529900         5   single-family home     19166      1998  5202\n",
      "20   149900         3            townhouse      2291      1999  1440\n",
      "21   394000         2   single-family home     18295      2001  2616\n",
      "22   229900         2   single-family home     10018      2002  1541\n",
      "23   439000         4   single-family home     18731      2005  3819\n",
      "24   146900         3                condo      2178      2006  1276\n",
      "25   174900         3   single-family home      2469      2007  1344\n",
      "26   445000         4   single-family home     21780      2010  3504\n",
      "27   659000         4   single-family home     21780      2014  5156\n",
      "28   429000         5   single-family home      7405      2017  2799\n",
      "29   429000         4   single-family home     22651      2018  3145\n"
     ]
    }
   ],
   "source": [
    "df = pandas.read_excel('s3://counihan-ia241/house_price.xls')\n",
    "\n",
    "print(df)"
   ]
  },
  {
   "cell_type": "code",
   "execution_count": 4,
   "metadata": {},
   "outputs": [],
   "source": [
    "df['unit_price']= df['price']/df['area']"
   ]
  },
  {
   "cell_type": "code",
   "execution_count": 5,
   "metadata": {},
   "outputs": [],
   "source": [
    "import numpy as np"
   ]
  },
  {
   "cell_type": "code",
   "execution_count": 9,
   "metadata": {},
   "outputs": [
    {
     "name": "stdout",
     "output_type": "stream",
     "text": [
      "the max unit price is $1222.2222222222222\n"
     ]
    }
   ],
   "source": [
    "print('the max unit price is ${}'.format(np.amax(df['unit_price'])))"
   ]
  },
  {
   "cell_type": "code",
   "execution_count": 10,
   "metadata": {},
   "outputs": [
    {
     "name": "stdout",
     "output_type": "stream",
     "text": [
      "the median unit price is $125.33144542647584\n"
     ]
    }
   ],
   "source": [
    "print('the median unit price is ${}'.format(np.median(df['unit_price'])))"
   ]
  },
  {
   "cell_type": "code",
   "execution_count": 12,
   "metadata": {},
   "outputs": [
    {
     "data": {
      "text/plain": [
       "house_type\n",
       " condo                 113.666272\n",
       " single-family home    177.947148\n",
       " townhouse             125.363829\n",
       "Name: unit_price, dtype: float64"
      ]
     },
     "execution_count": 12,
     "metadata": {},
     "output_type": "execute_result"
    }
   ],
   "source": [
    "df.groupby('house_type').mean()['unit_price']"
   ]
  },
  {
   "cell_type": "code",
   "execution_count": 13,
   "metadata": {},
   "outputs": [],
   "source": [
    "from scipy import stats"
   ]
  },
  {
   "cell_type": "code",
   "execution_count": 14,
   "metadata": {},
   "outputs": [],
   "source": [
    "result = stats.linregress(df['area'],df['price'])"
   ]
  },
  {
   "cell_type": "code",
   "execution_count": 15,
   "metadata": {},
   "outputs": [
    {
     "name": "stdout",
     "output_type": "stream",
     "text": [
      "slope is 74.37646603912873\n"
     ]
    }
   ],
   "source": [
    "print('slope is {}'.format(result.slope))"
   ]
  },
  {
   "cell_type": "code",
   "execution_count": 16,
   "metadata": {},
   "outputs": [
    {
     "name": "stdout",
     "output_type": "stream",
     "text": [
      "intercept is 171081.13292168107\n"
     ]
    }
   ],
   "source": [
    "print('intercept is {}'.format(result.intercept))"
   ]
  },
  {
   "cell_type": "code",
   "execution_count": 18,
   "metadata": {},
   "outputs": [
    {
     "name": "stdout",
     "output_type": "stream",
     "text": [
      "R square is 0.1660981507478648\n"
     ]
    }
   ],
   "source": [
    "print('R square is {}'.format(result.rvalue * result.rvalue))"
   ]
  },
  {
   "cell_type": "code",
   "execution_count": 19,
   "metadata": {},
   "outputs": [
    {
     "name": "stdout",
     "output_type": "stream",
     "text": [
      "p value is 0.025387094399552994\n"
     ]
    }
   ],
   "source": [
    "print('p value is {}'.format(result.pvalue))"
   ]
  },
  {
   "cell_type": "code",
   "execution_count": 20,
   "metadata": {},
   "outputs": [
    {
     "name": "stdout",
     "output_type": "stream",
     "text": [
      "the price of a house with 2,000 sqft is $319834.06499993854\n"
     ]
    }
   ],
   "source": [
    "print('the price of a house with 2,000 sqft is ${}'.format(2000*result.slope+result.intercept))"
   ]
  },
  {
   "cell_type": "code",
   "execution_count": null,
   "metadata": {},
   "outputs": [],
   "source": []
  }
 ],
 "metadata": {
  "kernelspec": {
   "display_name": "conda_python3",
   "language": "python",
   "name": "conda_python3"
  },
  "language_info": {
   "codemirror_mode": {
    "name": "ipython",
    "version": 3
   },
   "file_extension": ".py",
   "mimetype": "text/x-python",
   "name": "python",
   "nbconvert_exporter": "python",
   "pygments_lexer": "ipython3",
   "version": "3.6.5"
  }
 },
 "nbformat": 4,
 "nbformat_minor": 4
}
