{
 "cells": [
  {
   "cell_type": "markdown",
   "metadata": {},
   "source": [
    "# Analyzing COVID-19 Data Using Python"
   ]
  },
  {
   "cell_type": "markdown",
   "metadata": {},
   "source": [
    "### Felix Counihan"
   ]
  },
  {
   "cell_type": "markdown",
   "metadata": {},
   "source": [
    "### IA 241: Dr. Wei"
   ]
  },
  {
   "cell_type": "markdown",
   "metadata": {},
   "source": [
    "# Data Source"
   ]
  },
  {
   "cell_type": "code",
   "execution_count": 1,
   "metadata": {},
   "outputs": [],
   "source": [
    "%matplotlib inline"
   ]
  },
  {
   "cell_type": "code",
   "execution_count": 2,
   "metadata": {},
   "outputs": [],
   "source": [
    "import pandas"
   ]
  },
  {
   "cell_type": "markdown",
   "metadata": {},
   "source": [
    "# Importing Data from S3 Bucket"
   ]
  },
  {
   "cell_type": "code",
   "execution_count": 3,
   "metadata": {},
   "outputs": [],
   "source": [
    "df = pandas.read_excel('s3://counihan-ia241/COVID-19-geographic-disbtribution-worldwide-2020-05-01.xlsx')"
   ]
  },
  {
   "cell_type": "markdown",
   "metadata": {},
   "source": [
    "# 1. Calculating 10 Highest Overall Rates of Infection"
   ]
  },
  {
   "cell_type": "code",
   "execution_count": 4,
   "metadata": {},
   "outputs": [
    {
     "data": {
      "text/plain": [
       "countriesAndTerritories\n",
       "Cases_on_an_international_conveyance_Japan    0.000036\n",
       "Andorra                                       0.000011\n",
       "San_Marino                                    0.000010\n",
       "Sint_Maarten                                  0.000008\n",
       "Isle_of_Man                                   0.000006\n",
       "Belgium                                       0.000005\n",
       "Jersey                                        0.000005\n",
       "Guernsey                                      0.000005\n",
       "Spain                                         0.000004\n",
       "Montserrat                                    0.000004\n",
       "dtype: float64"
      ]
     },
     "execution_count": 4,
     "metadata": {},
     "output_type": "execute_result"
    }
   ],
   "source": [
    "sum_death_country = df.groupby('countriesAndTerritories').sum()['deaths']\n",
    "death_rate_pop = sum_death_country/df.groupby('countriesAndTerritories').sum()['popData2018']\n",
    "death_rate_pop.nlargest(10)"
   ]
  },
  {
   "cell_type": "markdown",
   "metadata": {},
   "source": [
    "# 2. Calculate 20 Highest Death Rates"
   ]
  },
  {
   "cell_type": "code",
   "execution_count": 5,
   "metadata": {},
   "outputs": [
    {
     "data": {
      "text/plain": [
       "countriesAndTerritories\n",
       "Yemen                       0.333333\n",
       "Nicaragua                   0.285714\n",
       "France                      0.188114\n",
       "Sint_Maarten                0.171053\n",
       "British_Virgin_Islands      0.166667\n",
       "Belgium                     0.156516\n",
       "United_Kingdom              0.156324\n",
       "Northern_Mariana_Islands    0.142857\n",
       "Italy                       0.136117\n",
       "Bahamas                     0.135802\n",
       "Antigua_and_Barbuda         0.125000\n",
       "Mauritania                  0.125000\n",
       "Sweden                      0.122606\n",
       "Netherlands                 0.121961\n",
       "Spain                       0.114991\n",
       "Liberia                     0.113475\n",
       "Hungary                     0.112819\n",
       "Algeria                     0.112332\n",
       "Belize                      0.111111\n",
       "Guyana                      0.109756\n",
       "dtype: float64"
      ]
     },
     "execution_count": 5,
     "metadata": {},
     "output_type": "execute_result"
    }
   ],
   "source": [
    "death_per_country = df.groupby('countriesAndTerritories').sum()['deaths']\n",
    "death_rate_case = sum_death_country/df.groupby('countriesAndTerritories').sum()['cases']\n",
    "death_rate_case.nlargest(20)"
   ]
  },
  {
   "cell_type": "markdown",
   "metadata": {},
   "source": [
    "# 3. Graph of 20 Highest Death Rates"
   ]
  },
  {
   "cell_type": "code",
   "execution_count": 6,
   "metadata": {},
   "outputs": [
    {
     "data": {
      "text/plain": [
       "<matplotlib.axes._subplots.AxesSubplot at 0x7f13f4200710>"
      ]
     },
     "execution_count": 6,
     "metadata": {},
     "output_type": "execute_result"
    },
    {
     "data": {
      "image/png": "[encoded data removed]",
      "text/plain": [
       "<Figure size 432x288 with 1 Axes>"
      ]
     },
     "metadata": {},
     "output_type": "display_data"
    }
   ],
   "source": [
    "death_rate_case.nlargest(20).plot.bar()"
   ]
  },
  {
   "cell_type": "markdown",
   "metadata": {},
   "source": [
    "# 4. Select USA Data"
   ]
  },
  {
   "cell_type": "code",
   "execution_count": 7,
   "metadata": {},
   "outputs": [],
   "source": [
    "usa_data = df.loc[df['countriesAndTerritories'] == 'United_States_of_America']"
   ]
  },
  {
   "cell_type": "markdown",
   "metadata": {},
   "source": [
    "# 4.1 Calculate Days With Most Deaths in USA"
   ]
  },
  {
   "cell_type": "code",
   "execution_count": 8,
   "metadata": {},
   "outputs": [
    {
     "data": {
      "text/plain": [
       "dateRep\n",
       "2020-04-16    10520\n",
       "2020-04-17     8709\n",
       "2020-04-18     8568\n",
       "2020-04-08     7663\n",
       "2020-04-15     7604\n",
       "2020-04-10     7445\n",
       "2020-04-24     7444\n",
       "2020-04-22     7284\n",
       "2020-04-11     7221\n",
       "2020-04-04     6633\n",
       "Name: deaths, dtype: int64"
      ]
     },
     "execution_count": 8,
     "metadata": {},
     "output_type": "execute_result"
    }
   ],
   "source": [
    "usa_data_plot = df.groupby('dateRep').sum()['deaths']\n",
    "usa_data_plot.nlargest(10)"
   ]
  },
  {
   "cell_type": "markdown",
   "metadata": {},
   "source": [
    "# 5. Visualizing Death Rates in USA vs Italy"
   ]
  },
  {
   "cell_type": "markdown",
   "metadata": {},
   "source": [
    "### USA: cases vs deaths"
   ]
  },
  {
   "cell_type": "code",
   "execution_count": 9,
   "metadata": {},
   "outputs": [
    {
     "data": {
      "text/plain": [
       "<matplotlib.axes._subplots.AxesSubplot at 0x7f13f4a4c588>"
      ]
     },
     "execution_count": 9,
     "metadata": {},
     "output_type": "execute_result"
    },
    {
     "data": {
      "image/png": "[encoded data removed]",
      "text/plain": [
       "<Figure size 432x288 with 1 Axes>"
      ]
     },
     "metadata": {},
     "output_type": "display_data"
    }
   ],
   "source": [
    "usa_data.plot.scatter(x = 'cases',y = 'deaths')"
   ]
  },
  {
   "cell_type": "markdown",
   "metadata": {},
   "source": [
    "### Italy: cases vs deaths"
   ]
  },
  {
   "cell_type": "code",
   "execution_count": 10,
   "metadata": {},
   "outputs": [],
   "source": [
    "ita_data = df.loc[df['countriesAndTerritories'] == 'Italy']"
   ]
  },
  {
   "cell_type": "code",
   "execution_count": 11,
   "metadata": {
    "scrolled": true
   },
   "outputs": [
    {
     "data": {
      "text/plain": [
       "<matplotlib.axes._subplots.AxesSubplot at 0x7f13f4a95b00>"
      ]
     },
     "execution_count": 11,
     "metadata": {},
     "output_type": "execute_result"
    },
    {
     "data": {
      "image/png": "[encoded data removed]",
      "text/plain": [
       "<Figure size 432x288 with 1 Axes>"
      ]
     },
     "metadata": {},
     "output_type": "display_data"
    }
   ],
   "source": [
    "ita_data.plot.scatter(x = 'cases',y = 'deaths')"
   ]
  },
  {
   "cell_type": "markdown",
   "metadata": {},
   "source": [
    "# 5.1"
   ]
  },
  {
   "cell_type": "markdown",
   "metadata": {},
   "source": [
    "The COVID-19 virus is a rapidly spreading virus that spreads through human contact. The number of cases and deaths are largely a result of every country's management of the virus. In this notebook, we calculate and graph the death rates of different countries, and look at the data from the United States."
   ]
  },
  {
   "cell_type": "markdown",
   "metadata": {},
   "source": [
    "# 5.2"
   ]
  },
  {
   "cell_type": "markdown",
   "metadata": {},
   "source": [
    "The data is from the European Centre for Disease Prevention and Control, a European Union agency, and is up to date as of May 1, 2020. The data was downloaded as an XLSX file and imported to the S3 bucket to read in python."
   ]
  },
  {
   "cell_type": "markdown",
   "metadata": {},
   "source": [
    "# 5.3"
   ]
  },
  {
   "cell_type": "markdown",
   "metadata": {},
   "source": [
    "We calculated the amount of deaths per total population to see which countries have the highest overall rates of infection. To analyze the severity in each country, we calculated the 20 highest death rates by dividing the total amount of cases by the total amount of deaths in each country. We also calculated the days with the most deaths in the United States by grouping by day and taking the 10 highest death numbers for each day, and ranking the highest 10."
   ]
  },
  {
   "cell_type": "markdown",
   "metadata": {},
   "source": [
    "# 5.4"
   ]
  },
  {
   "cell_type": "markdown",
   "metadata": {},
   "source": [
    "The first graph plots the 20 countries with the highest death rates. While smaller countries such as Sint Maarten, the British Virgin Islands, and Northern Mariana Islands appear high on the list, these countries have significantly smaller populations than France and Italy, who also rank high on the list, a sign of widepsread infection in those countries."
   ]
  },
  {
   "cell_type": "markdown",
   "metadata": {},
   "source": [
    "The second and third graphs compare the death rates from the United States and Italy. The trend of the United States graph has an exponential shape, compared to Italy and a more linear shape. We can conclude that the United States needs to take action to slow down the curve and prevent the virus from spreading rapidly and exponentially."
   ]
  },
  {
   "cell_type": "markdown",
   "metadata": {},
   "source": [
    "# 5.5"
   ]
  },
  {
   "cell_type": "markdown",
   "metadata": {},
   "source": [
    "The Eurpoean Centre for Disease Prevention and Control (ECDC) is an IGO agency funded by the European Union (EU). The core function of the ECDC is to strengthen the protection of countries in the EU from communicable diseases, such as COVID-19."
   ]
  },
  {
   "cell_type": "markdown",
   "metadata": {},
   "source": [
    "# 5.6"
   ]
  },
  {
   "cell_type": "markdown",
   "metadata": {},
   "source": [
    "Limitations in this notebook stem from the difference in population of each country. Smaller countries have a higher chance of appearing higher on the list of overall rates of infection, as their denominators for this calcuation are much smaller. Because of this, dividing deaths by the number of cases to calculate the death rate is more representative of widespread infection. Furthermore, in the second and third graphs the x axis values for the United States are much larger, we must take into account that the United States has a significantly larger population than Italy. Because of this, making a visual representation gives us a better idea of rates of infection. To improve the project, drawing a line of best fit on the second and third graphs would give us a better representation of actual trend of the severity in each country. "
   ]
  },
  {
   "cell_type": "markdown",
   "metadata": {},
   "source": [
    "# 5.7"
   ]
  },
  {
   "cell_type": "markdown",
   "metadata": {},
   "source": [
    "The second and third visualizations display the severity of the virus here in the United States. The trend of death rates in the United States shows that the virus will spread exponentially, compared to the more linear fashion in Italy. While we must take into account the population differences that may skew our data, it appears that if legislative action and other preventative measures are not taken, the siutation in the United States has the potential to become much worse in the future."
   ]
  },
  {
   "cell_type": "code",
   "execution_count": null,
   "metadata": {},
   "outputs": [],
   "source": []
  }
 ],
 "metadata": {
  "kernelspec": {
   "display_name": "conda_python3",
   "language": "python",
   "name": "conda_python3"
  },
  "language_info": {
   "codemirror_mode": {
    "name": "ipython",
    "version": 3
   },
   "file_extension": ".py",
   "mimetype": "text/x-python",
   "name": "python",
   "nbconvert_exporter": "python",
   "pygments_lexer": "ipython3",
   "version": "3.6.5"
  }
 },
 "nbformat": 4,
 "nbformat_minor": 4
}
